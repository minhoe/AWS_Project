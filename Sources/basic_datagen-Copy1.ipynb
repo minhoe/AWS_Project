{
 "cells": [
  {
   "cell_type": "markdown",
   "metadata": {},
   "source": [
    "## Basic data set generation"
   ]
  },
  {
   "cell_type": "code",
   "execution_count": 6,
   "metadata": {},
   "outputs": [
    {
     "name": "stdout",
     "output_type": "stream",
     "text": [
      "Package loaded\n",
      "Current folder is /home/ubuntu/git-repos/TF-Tutorial/Sources\n"
     ]
    }
   ],
   "source": [
    "import numpy as np\n",
    "import os\n",
    "#from scipy.misc import imread, imresize\n",
    "from imageio import imread\n",
    "from skimage.transform import resize\n",
    "import matplotlib.pyplot as plt\n",
    "%matplotlib inline  \n",
    "print (\"Package loaded\") \n",
    "cwd = os.getcwd()\n",
    "print (\"Current folder is %s\" % (cwd) )"
   ]
  },
  {
   "cell_type": "markdown",
   "metadata": {},
   "source": [
    "### Specify the folder path"
   ]
  },
  {
   "cell_type": "code",
   "execution_count": 2,
   "metadata": {},
   "outputs": [
    {
     "name": "stdout",
     "output_type": "stream",
     "text": [
      "Your imgs path :\n",
      " [0/3] /home/ubuntu/git-repos/TF-Tutorial/Sources/../Data/Img/G90/\n",
      " [1/3] /home/ubuntu/git-repos/TF-Tutorial/Sources/../Data/Img/G70/\n",
      " [2/3] /home/ubuntu/git-repos/TF-Tutorial/Sources/../Data/Img/G80/\n",
      "Data will be saved to /home/ubuntu/git-repos/TF-Tutorial/Sources/data/genesis_data.npz\n"
     ]
    }
   ],
   "source": [
    "paths = {'../Data/Img/G70/'\n",
    "        ,'../Data/Img/G80/'\n",
    "        ,'../Data/Img/G90/'}\n",
    "# Reshape size\n",
    "imgsize = [64,64]\n",
    "# Grayscale\n",
    "use_gray = 1\n",
    "# Save name\n",
    "data_name = 'genesis_data'\n",
    "\n",
    "print('Your imgs path :')\n",
    "for i, path in enumerate(paths):\n",
    "    print(' [%d/%d] %s/%s' %(i, len(paths), cwd, path))\n",
    "\n",
    "print('Data will be saved to %s'\n",
    "     %(cwd + '/data/' + data_name + '.npz'))\n"
   ]
  },
  {
   "cell_type": "markdown",
   "metadata": {},
   "source": [
    "### RGB 2 GRAY function"
   ]
  },
  {
   "cell_type": "code",
   "execution_count": 3,
   "metadata": {},
   "outputs": [],
   "source": [
    "def rgb2gray(rgb):\n",
    "    if len(rgb.shape) is 3:\n",
    "        return np.dot(rgb[...,:3], [0.299, 0.587, 0.114])\n",
    "    else:\n",
    "        # print (\"Current Image if GRAY!\")\n",
    "        return rgb"
   ]
  },
  {
   "cell_type": "markdown",
   "metadata": {},
   "source": [
    "### Load images"
   ]
  },
  {
   "cell_type": "code",
   "execution_count": 7,
   "metadata": {},
   "outputs": [
    {
     "name": "stderr",
     "output_type": "stream",
     "text": [
      "/home/ubuntu/anaconda3/envs/tensorflow_p36/lib/python3.6/site-packages/skimage/transform/_warps.py:84: UserWarning: The default mode, 'constant', will be changed to 'reflect' in skimage 0.15.\n",
      "  warn(\"The default mode, 'constant', will be changed to 'reflect' in \"\n"
     ]
    },
    {
     "name": "stdout",
     "output_type": "stream",
     "text": [
      "Total 10 images loaded.\n"
     ]
    }
   ],
   "source": [
    "nclass     = len(paths)\n",
    "valid_exts = [\".jpg\",\".gif\",\".png\",\".tga\", \".jpeg\"]\n",
    "imgcnt     = 0\n",
    "for i, relpath in zip(range(nclass), paths):\n",
    "    path = cwd + \"/\" + relpath\n",
    "    flist = os.listdir(path)\n",
    "    for f in flist:\n",
    "        if os.path.splitext(f)[1].lower() not in valid_exts:\n",
    "            continue\n",
    "        fullpath = os.path.join(path, f)\n",
    "        currimg  = imread(fullpath)\n",
    "        # Convert to grayscale  \n",
    "        if use_gray:\n",
    "            grayimg  = rgb2gray(currimg)\n",
    "        else:\n",
    "            grayimg  = currimg\n",
    "        # Reshape\n",
    "        graysmall = resize(grayimg, [imgsize[0], imgsize[1]])/255.\n",
    "        grayvec   = np.reshape(graysmall, (1, -1))\n",
    "        # Save \n",
    "        curr_label = np.eye(nclass, nclass)[i:i+1, :]\n",
    "        if imgcnt is 0:\n",
    "            totalimg   = grayvec\n",
    "            totallabel = curr_label\n",
    "        else:\n",
    "            totalimg   = np.concatenate((totalimg, grayvec), axis=0)\n",
    "            totallabel = np.concatenate((totallabel, curr_label), axis=0)\n",
    "        imgcnt    = imgcnt + 1\n",
    "print (\"Total %d images loaded.\" % (imgcnt))"
   ]
  },
  {
   "cell_type": "markdown",
   "metadata": {},
   "source": [
    "### Divide into trn and test dataset"
   ]
  },
  {
   "cell_type": "code",
   "execution_count": 12,
   "metadata": {},
   "outputs": [
    {
     "name": "stdout",
     "output_type": "stream",
     "text": [
      "Shape of trainimg is (6, 4096)\n",
      "Shape of trainlabel is (6, 3)\n",
      "Shape of testimg is (4, 4096)\n",
      "Shape of testlabel is (4, 3)\n"
     ]
    }
   ],
   "source": [
    "def print_shape(string, x):\n",
    "    print('Shape of %s is %s' %(string, x.shape,))\n",
    "\n",
    "randidx    = np.random.randint(imgcnt, size=imgcnt)\n",
    "trainidx   = randidx[0:int(3*imgcnt/5)]\n",
    "testidx    = randidx[int(3*imgcnt/5):imgcnt]\n",
    "trainimg   = totalimg[trainidx, :]\n",
    "trainlabel = totallabel[trainidx, :]\n",
    "testimg    = totalimg[testidx, :]\n",
    "testlabel  = totallabel[testidx, :]\n",
    "print_shape(\"trainimg\", trainimg)\n",
    "print_shape(\"trainlabel\", trainlabel)\n",
    "print_shape(\"testimg\", testimg)\n",
    "print_shape(\"testlabel\", testlabel)\n"
   ]
  },
  {
   "cell_type": "markdown",
   "metadata": {},
   "source": [
    "### Save to NPZ"
   ]
  },
  {
   "cell_type": "code",
   "execution_count": 15,
   "metadata": {},
   "outputs": [
    {
     "name": "stdout",
     "output_type": "stream",
     "text": [
      "Saved to ../Data/genesis_data.npz\n"
     ]
    }
   ],
   "source": [
    "savepath = '../Data/' + data_name + '.npz'\n",
    "np.savez(savepath, trainimg=trainimg, trainlabel=trainlabel\n",
    "        , testimg=testimg, testlabel=testlabel, imgsize=imgsize, use_gray=use_gray)\n",
    "print('Saved to %s' %(savepath))"
   ]
  },
  {
   "cell_type": "markdown",
   "metadata": {},
   "source": [
    "### Load to check!"
   ]
  },
  {
   "cell_type": "code",
   "execution_count": 20,
   "metadata": {},
   "outputs": [
    {
     "name": "stdout",
     "output_type": "stream",
     "text": [
      "['trainimg', 'trainlabel', 'testimg', 'testlabel', 'imgsize', 'use_gray']\n",
      "6 train images loaded\n",
      "4 test images loaded\n",
      "Loaded from to ../Data/genesis_data.npz\n"
     ]
    }
   ],
   "source": [
    "# Load them!\n",
    "loadpath = '../Data/' + data_name + '.npz'\n",
    "l = np.load(loadpath)\n",
    "\n",
    "print(l.files)\n",
    "\n",
    "# Parse data\n",
    "trainimg_loaded = l['trainimg']\n",
    "trainlabel_loaded = l['trainlabel']\n",
    "testimg_loaded = l['testimg']\n",
    "testlabel_loaded = l['testlabel']\n",
    "\n",
    "print (\"%d train images loaded\" % (trainimg_loaded.shape[0]))\n",
    "print (\"%d test images loaded\" % (testimg_loaded.shape[0]))\n",
    "print (\"Loaded from to %s\" % (savepath))"
   ]
  },
  {
   "cell_type": "markdown",
   "metadata": {},
   "source": [
    "### Plot randomly selected trn images"
   ]
  },
  {
   "cell_type": "code",
   "execution_count": 21,
   "metadata": {},
   "outputs": [
    {
     "data": {
      "image/png": "[encoded data removed]",
      "text/plain": [
       "<Figure size 288x288 with 2 Axes>"
      ]
     },
     "metadata": {},
     "output_type": "display_data"
    },
    {
     "data": {
      "image/png": "[encoded data removed]",
      "text/plain": [
       "<Figure size 288x288 with 2 Axes>"
      ]
     },
     "metadata": {},
     "output_type": "display_data"
    },
    {
     "data": {
      "image/png": "[encoded data removed]",
      "text/plain": [
       "<Figure size 288x288 with 2 Axes>"
      ]
     },
     "metadata": {},
     "output_type": "display_data"
    }
   ],
   "source": [
    "ntrain_loaded = trainimg_loaded.shape[0]\n",
    "batch_size = 3;\n",
    "randidx = np.random.randint(ntrain_loaded, size=batch_size)\n",
    "for i in randidx: \n",
    "    currimg = np.reshape(trainimg_loaded[i, :], (imgsize[0], -1))\n",
    "    currlabel_onehot = trainlabel_loaded[i, :]\n",
    "    currlabel = np.argmax(currlabel_onehot) \n",
    "    if use_gray:\n",
    "        currimg = np.reshape(trainimg[i, :], (imgsize[0], -1))\n",
    "        plt.matshow(currimg, cmap=plt.get_cmap('gray'))\n",
    "        plt.colorbar()\n",
    "    else:\n",
    "        currimg = np.reshape(trainimg[i, :], (imgsize[0], imgsize[1], 3))\n",
    "        plt.imshow(currimg)\n",
    "    title_string = \"[%d] %d-class\" % (i, currlabel)\n",
    "    plt.title(title_string) \n",
    "    plt.show()"
   ]
  }
 ],
 "metadata": {
  "kernelspec": {
   "display_name": "Environment (conda_tensorflow_p36)",
   "language": "python",
   "name": "conda_tensorflow_p36"
  },
  "language_info": {
   "codemirror_mode": {
    "name": "ipython",
    "version": 3
   },
   "file_extension": ".py",
   "mimetype": "text/x-python",
   "name": "python",
   "nbconvert_exporter": "python",
   "pygments_lexer": "ipython3",
   "version": "3.6.5"
  }
 },
 "nbformat": 4,
 "nbformat_minor": 2
}
