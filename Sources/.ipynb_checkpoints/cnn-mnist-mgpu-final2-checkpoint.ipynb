{
 "cells": [
  {
   "cell_type": "markdown",
   "metadata": {},
   "source": [
    "### CNN MNIST for multi-gpu version"
   ]
  },
  {
   "cell_type": "code",
   "execution_count": 1,
   "metadata": {},
   "outputs": [
    {
     "name": "stdout",
     "output_type": "stream",
     "text": [
      "CURRENT TF VERSION IS [1.12.0]\n",
      "PACKAGES LOADED\n"
     ]
    }
   ],
   "source": [
    "import os\n",
    "import numpy as np\n",
    "from scipy import ndimage\n",
    "import matplotlib.pyplot as plt\n",
    "import tensorflow as tf\n",
    "from tensorflow import keras\n",
    "\n",
    "from tensorflow.examples.tutorials.mnist import input_data\n",
    "%matplotlib inline  \n",
    "print (\"CURRENT TF VERSION IS [%s]\" % (tf.__version__))\n",
    "print (\"PACKAGES LOADED\")"
   ]
  },
  {
   "cell_type": "markdown",
   "metadata": {},
   "source": [
    "### Check the available GPUs in the notebook"
   ]
  },
  {
   "cell_type": "code",
   "execution_count": 2,
   "metadata": {},
   "outputs": [],
   "source": [
    "from tensorflow.python.client import device_lib\n",
    "\n",
    "def check_available_gpus():\n",
    "    local_devices = device_lib.list_local_devices()\n",
    "    gpu_names = [x.name for x in local_devices if x.device_type == 'GPU']\n",
    "    gpu_num = len(gpu_names)\n",
    "\n",
    "    print('{0} GPUs are detected : {1}'.format(gpu_num, gpu_names))\n",
    "\n",
    "    return gpu_num"
   ]
  },
  {
   "cell_type": "markdown",
   "metadata": {},
   "source": [
    "### Load MNIST Dataset"
   ]
  },
  {
   "cell_type": "code",
   "execution_count": 3,
   "metadata": {},
   "outputs": [
    {
     "name": "stdout",
     "output_type": "stream",
     "text": [
      "Training data shape :  (60000, 28, 28)\n",
      "Class dataset :  (60000,)\n",
      "Testing data shape :  (10000, 28, 28)\n",
      "Class dataset :  (10000,)\n"
     ]
    }
   ],
   "source": [
    "mnist = keras.datasets.mnist\n",
    "(trainimg, trainlabel), (testimg, testlabel) = mnist.load_data()\n",
    "\n",
    "# Img size : 28 x 28 x 1\n",
    "# Num classes : 10\n",
    "\n",
    "print('Training data shape : ', trainimg.shape)\n",
    "print('Class dataset : ', trainlabel.shape)\n",
    "print('Testing data shape : ', testimg.shape)\n",
    "print('Class dataset : ', testlabel.shape)"
   ]
  },
  {
   "cell_type": "markdown",
   "metadata": {},
   "source": [
    "### Data preprocessing"
   ]
  },
  {
   "cell_type": "code",
   "execution_count": 4,
   "metadata": {},
   "outputs": [
    {
     "name": "stdout",
     "output_type": "stream",
     "text": [
      "Training data shape :  (60000, 784)\n",
      "Class dataset :  (60000, 10)\n",
      "Testing data shape :  (10000, 784)\n",
      "Class dataset :  (10000, 10)\n"
     ]
    }
   ],
   "source": [
    "N_TRN = len(trainlabel)\n",
    "N_TST = len(testlabel)\n",
    "\n",
    "onehot_mat = np.eye(10)\n",
    "\n",
    "trainimg  = np.reshape(trainimg, [-1, 784])\n",
    "testimg   = np.reshape(testimg, [-1, 784])\n",
    "\n",
    "trainlabel = np.concatenate([[onehot_mat[int(x),:]] for x in trainlabel], axis=0)\n",
    "testlabel   = np.concatenate([[onehot_mat[int(x),:]] for x in testlabel], axis=0)\n",
    "\n",
    "print('Training data shape : ', trainimg.shape)\n",
    "print('Class dataset : ', trainlabel.shape)\n",
    "print('Testing data shape : ', testimg.shape)\n",
    "print('Class dataset : ', testlabel.shape)"
   ]
  },
  {
   "cell_type": "markdown",
   "metadata": {},
   "source": [
    "### Define CNN model"
   ]
  },
  {
   "cell_type": "code",
   "execution_count": 10,
   "metadata": {},
   "outputs": [],
   "source": [
    "\n",
    "def model(X, reuse=False, is_trn=True):\n",
    "    with tf.variable_scope('L1', reuse=reuse):\n",
    "        X  = tf.layers.batch_normalization(inputs=X, reuse=reuse)\n",
    "        L1 = tf.layers.conv2d(inputs=X\n",
    "                              , filters=64\n",
    "                              , kernel_size=[3, 3]\n",
    "                              , reuse=reuse\n",
    "                              , activation=tf.nn.relu\n",
    "                              , padding='SAME')\n",
    "        L1 = tf.layers.max_pooling2d(inputs=L1\n",
    "                                     , pool_size=[2, 2]\n",
    "                                     , strides=[2, 2])\n",
    "        L1 = tf.layers.dropout(inputs=L1\n",
    "                               , rate=0.7\n",
    "                               , training=is_trn)\n",
    "\n",
    "    with tf.variable_scope('L2', reuse=reuse):\n",
    "        L1 = tf.layers.batch_normalization(inputs=L1, reuse=reuse)\n",
    "        L2 = tf.layers.conv2d(inputs=L1\n",
    "                              , filters=128\n",
    "                              , kernel_size=[3, 3]\n",
    "                              , reuse=reuse\n",
    "                              , activation=tf.nn.relu\n",
    "                              , padding='SAME')\n",
    "        L2 = tf.layers.max_pooling2d(inputs=L2\n",
    "                                     , pool_size=[2, 2]\n",
    "                                     , strides=[2, 2])\n",
    "        L2 = tf.layers.dropout(inputs=L2\n",
    "                               , rate=0.7\n",
    "                               , training=is_trn)\n",
    "\n",
    "    with tf.variable_scope('L2-1', reuse=reuse):\n",
    "        L2   = tf.layers.batch_normalization(inputs=L2, reuse=reuse)\n",
    "        L2_1 = tf.layers.conv2d(inputs=L2\n",
    "                                , filters=128\n",
    "                                , kernel_size=[3, 3]\n",
    "                                , reuse=reuse\n",
    "                                , activation=tf.nn.relu\n",
    "                                , padding='SAME')\n",
    "        L2_1 = tf.layers.max_pooling2d(inputs=L2_1\n",
    "                                       , pool_size=[2, 2]\n",
    "                                       , strides=[2, 2])\n",
    "        L2_1 = tf.layers.dropout(inputs=L2_1\n",
    "                                 , rate=0.7\n",
    "                                 , training=is_trn)\n",
    "        \n",
    "    with tf.variable_scope('L3', reuse=reuse):\n",
    "        L2_1 = tf.layers.batch_normalization(inputs=L2, reuse=reuse)\n",
    "        L3   = tf.contrib.layers.flatten(inputs=L2_1)\n",
    "        L3   = tf.layers.dense(L3, 1024, activation=tf.nn.relu)\n",
    "        L3   = tf.layers.dropout(L3, 0.5, is_trn)\n",
    "\n",
    "    with tf.variable_scope('L4', reuse=reuse):\n",
    "        L3 = tf.layers.batch_normalization(inputs=L3, reuse=reuse)\n",
    "        L4 = tf.layers.dense(L3, 256, activation=tf.nn.relu)\n",
    "\n",
    "    with tf.variable_scope('LF', reuse=reuse):\n",
    "        LF = tf.layers.dense(L4, 10, activation=None)\n",
    "\n",
    "    return LF"
   ]
  },
  {
   "cell_type": "markdown",
   "metadata": {},
   "source": [
    "### Image Augmentation"
   ]
  },
  {
   "cell_type": "code",
   "execution_count": 6,
   "metadata": {},
   "outputs": [],
   "source": [
    "def augment_img(xs):\n",
    "    out  = np.copy(xs)\n",
    "    xs_r = np.reshape(xs, [-1, 28, 28])\n",
    "    for i in range(xs_r.shape[0]):\n",
    "        xs_img = xs_r[i, :, :]\n",
    "        bg_value = 0\n",
    "        # ROTATE\n",
    "        angle = np.random.randint(-15, 15, 1).astype(float)\n",
    "        xs_img = ndimage.rotate(xs_img, angle, reshape=False, cval=bg_value)\n",
    "        # ZOOM\n",
    "        rg = 0.1\n",
    "        zoom_factor = np.random.uniform(1., 1.+rg)\n",
    "        h, w = xs_img.shape[:2]\n",
    "        zh   = int(np.round(zoom_factor * h))\n",
    "        zw   = int(np.round(zoom_factor * w))\n",
    "        top  = (zh - h) // 2\n",
    "        left = (zw - w) // 2\n",
    "        zoom_tuple = (zoom_factor,) * 2 + (1,) * (xs_img.ndim - 2)\n",
    "        temp = ndimage.zoom(xs_img[top:top+zh, left:left+zw], zoom_tuple)\n",
    "        trim_top  = ((temp.shape[0] - h) // 2)\n",
    "        trim_left = ((temp.shape[1] - w) // 2)\n",
    "        xs_img = temp[trim_top:trim_top+h, trim_left:trim_left+w]\n",
    "        # SHIFT\n",
    "        shift = np.random.randint(-3, 3, 2)\n",
    "        xs_img = ndimage.shift(xs_img, shift, cval=bg_value)\n",
    "        # RESHAPE\n",
    "        xs_v = np.reshape(xs_img, [1, -1])\n",
    "        out[i, :] = xs_v\n",
    "    return out"
   ]
  },
  {
   "cell_type": "markdown",
   "metadata": {},
   "source": [
    "### Build Graph"
   ]
  },
  {
   "cell_type": "code",
   "execution_count": 14,
   "metadata": {},
   "outputs": [
    {
     "name": "stdout",
     "output_type": "stream",
     "text": [
      "4 GPUs are detected : ['/device:GPU:0', '/device:GPU:1', '/device:GPU:2', '/device:GPU:3']\n",
      "Graph Ready!\n"
     ]
    }
   ],
   "source": [
    "tf.reset_default_graph()\n",
    "# need to change learning rates and batch size by number of GPU\n",
    "BATCH_SIZE    = 64\n",
    "LEARNING_RATE = 0.001\n",
    "TOTAL_EPOCHS  = 100\n",
    "DISPLAY_STEP  = 4\n",
    "NUM_GPUS      = check_available_gpus()\n",
    "\n",
    "# Placeholders\n",
    "X      = tf.placeholder(tf.float32, [None, 28, 28, 1])\n",
    "Y      = tf.placeholder(tf.float32, [None, 10])\n",
    "IS_TRN = tf.placeholder(tf.bool)\n",
    "\n",
    "losses = []\n",
    "accres = []\n",
    "# Split placeholders for each GPU operation\n",
    "X_A = tf.split(X, int(NUM_GPUS))\n",
    "Y_A = tf.split(Y, int(NUM_GPUS))\n",
    "\n",
    "for gpu_id in range(int(NUM_GPUS)):\n",
    "    with tf.device(tf.DeviceSpec(device_type=\"GPU\", device_index=gpu_id)):\n",
    "        with tf.variable_scope(tf.get_variable_scope(), reuse=(gpu_id > 0)):\n",
    "            pred = model(X_A[gpu_id], gpu_id > 0)\n",
    "            cost = tf.nn.softmax_cross_entropy_with_logits_v2(\n",
    "                            logits=pred,\n",
    "                            labels=Y_A[gpu_id])\n",
    "            corr = tf.equal(tf.argmax(pred, 1), tf.argmax(Y_A[gpu_id], 1))    \n",
    "            accr = tf.reduce_mean(tf.cast(corr, \"float\"))\n",
    "            \n",
    "            losses.append(cost)\n",
    "            accres.append(accr)\n",
    "            \n",
    "\n",
    "loss = tf.reduce_mean(tf.concat(losses, axis=0))\n",
    "accr = tf.reduce_mean(accres)\n",
    "\n",
    "optimizer = tf.train.AdamOptimizer(LEARNING_RATE).minimize(\n",
    "    loss, colocate_gradients_with_ops=True)  # Important!\n",
    "\n",
    "print('Graph Ready!')"
   ]
  },
  {
   "cell_type": "markdown",
   "metadata": {},
   "source": [
    "### Run the model"
   ]
  },
  {
   "cell_type": "code",
   "execution_count": 8,
   "metadata": {},
   "outputs": [],
   "source": [
    "init = tf.global_variables_initializer()\n",
    "sess = tf.Session(config=tf.ConfigProto(log_device_placement=True))\n",
    "sess.run(init)\n",
    "\n",
    "start_time = datetime.datetime.now()\n",
    "\n",
    "for epoch in range(TOTAL_EPOCHS):\n",
    "    total_cost = 0.\n",
    "    \n",
    "    total_batch = int(mnist.train.num_examples/batch_size)\n",
    "    \n",
    "    # Iteration\n",
    "    for i in range(total_batch):\n",
    "        batch_xs, batch_ys = mnist.train.next_batch(batch_size)\n",
    "        # Augment Dataset\n",
    "        batch_xs = augment_img(batch_xs)\n",
    "        #batch_xs = batch_xs.reshape(-1, 28, 28, 1)\n",
    "        feeds = {X: batch_xs, Y: batch_ys, IS_TRN: True }\n",
    "        \n",
    "        _, cost_val = sess.run([optimizer, loss],\n",
    "                               feed_dict=feeds)\n",
    "        total_cost += cost_val\n",
    "    total_cost = total_cost / total_batch\n",
    "\n",
    "    # Display learning process\n",
    "    if (epoch+1) % DISPLAY_STEP == 0:\n",
    "        print (\"Epoch: %03d/%03d cost: %.9f\" % (epoch+1, TOTAL_EPOCHS, total_cost))\n",
    "        randidx = np.random.permutation(trainimg.shape[0])[:500]\n",
    "        feeds = {X: trainimg[randidx], Y: trainlabel[randidx], IS_TRN: False}\n",
    "        train_acc = sess.run(accr, feed_dict=feeds)\n",
    "        print (\" TRAIN ACCURACY: %.5f\" % (train_acc))\n",
    "        feeds = {X: valimg, Y: vallabel, IS_TRN: False}\n",
    "        val_acc = sess.run(accr, feed_dict=feeds)\n",
    "        print (\" VALIDATION ACCURACY: %.5f\" % (val_acc))    \n",
    "\n",
    "print(\"--- Training time : {0} seconds /w {1} GPUs ---\".format(\n",
    "    datetime.datetime.now() - start_time, gpu_num))"
   ]
  }
 ],
 "metadata": {
  "kernelspec": {
   "display_name": "Environment (conda_tensorflow_p36)",
   "language": "python",
   "name": "conda_tensorflow_p36"
  },
  "language_info": {
   "codemirror_mode": {
    "name": "ipython",
    "version": 3
   },
   "file_extension": ".py",
   "mimetype": "text/x-python",
   "name": "python",
   "nbconvert_exporter": "python",
   "pygments_lexer": "ipython3",
   "version": "3.6.5"
  }
 },
 "nbformat": 4,
 "nbformat_minor": 2
}
