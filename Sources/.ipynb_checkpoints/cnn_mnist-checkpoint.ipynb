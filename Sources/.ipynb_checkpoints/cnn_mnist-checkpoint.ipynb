{
 "cells": [
  {
   "cell_type": "code",
   "execution_count": 1,
   "metadata": {},
   "outputs": [
    {
     "name": "stderr",
     "output_type": "stream",
     "text": [
      "Using TensorFlow backend.\n"
     ]
    },
    {
     "name": "stdout",
     "output_type": "stream",
     "text": [
      "TF Version :  1.12.0\n",
      "['/job:localhost/replica:0/task:0/device:GPU:0']\n"
     ]
    }
   ],
   "source": [
    "# TF and tf.keras\n",
    "import tensorflow as tf\n",
    "from tensorflow import keras\n",
    "\n",
    "from keras import backend as K\n",
    "\n",
    "import numpy as np\n",
    "import matplotlib.pyplot as plt\n",
    "\n",
    "%matplotlib inline\n",
    "\n",
    "tf.set_random_seed(19)\n",
    "\n",
    "print('TF Version : ', tf.__version__)\n",
    "print(K.tensorflow_backend._get_available_gpus())"
   ]
  },
  {
   "cell_type": "markdown",
   "metadata": {},
   "source": [
    "### Load MNIST dataset"
   ]
  },
  {
   "cell_type": "code",
   "execution_count": 2,
   "metadata": {},
   "outputs": [],
   "source": [
    "mnist = keras.datasets.mnist\n",
    "(train_images, train_labels), (test_images, test_labels) = mnist.load_data()\n",
    "\n",
    "# Img size : 28 x 28 x 1\n",
    "# Num classes : 10"
   ]
  },
  {
   "cell_type": "markdown",
   "metadata": {},
   "source": [
    "### Data exploration"
   ]
  },
  {
   "cell_type": "code",
   "execution_count": 3,
   "metadata": {},
   "outputs": [
    {
     "name": "stdout",
     "output_type": "stream",
     "text": [
      "Training data shape :  (60000, 28, 28)\n",
      "Class dataset :  (60000,)\n",
      "Testing data shape :  (10000, 28, 28)\n",
      "Class dataset :  (10000,)\n"
     ]
    }
   ],
   "source": [
    "print('Training data shape : ', train_images.shape)\n",
    "print('Class dataset : ', train_labels.shape)\n",
    "print('Testing data shape : ', test_images.shape)\n",
    "print('Class dataset : ', test_labels.shape)"
   ]
  },
  {
   "cell_type": "code",
   "execution_count": 4,
   "metadata": {},
   "outputs": [
    {
     "data": {
      "image/png": "[encoded data removed]",
      "text/plain": [
       "<Figure size 432x288 with 2 Axes>"
      ]
     },
     "metadata": {},
     "output_type": "display_data"
    }
   ],
   "source": [
    "plt.figure()\n",
    "idx = np.random.randint(0, len(train_labels))\n",
    "plt.imshow(train_images[idx], cmap='gray')\n",
    "plt.colorbar()\n",
    "plt.grid(False)\n",
    "plt.title('Image No : %d / Class: %s' % (idx, train_labels[idx]))\n",
    "plt.show()"
   ]
  },
  {
   "cell_type": "markdown",
   "metadata": {},
   "source": [
    "### Model definition"
   ]
  },
  {
   "cell_type": "code",
   "execution_count": 63,
   "metadata": {},
   "outputs": [],
   "source": [
    "# Network Topologies\n",
    "n_hidden_1 = 128\n",
    "n_input    = 784\n",
    "n_classes  = 10\n",
    "display_step = 5\n",
    "\n",
    "class Model:\n",
    "    def __init__(self, sess, name, learning_rate=1e-3, batch_size=100):\n",
    "        self.sess = sess\n",
    "        self.name = name\n",
    "        \n",
    "        self.learning_rate = learning_rate\n",
    "        self.batch_size    = batch_size\n",
    "        \n",
    "        self.weights  = {\n",
    "            'wc1': tf.Variable(tf.random_normal([3, 3, 1, 64], stddev=0.1)),\n",
    "            'wd1': tf.Variable(tf.random_normal([14*14*64, n_classes], stddev=0.1))\n",
    "        }\n",
    "        self.biases   = {\n",
    "            'bc1': tf.Variable(tf.random_normal([64], stddev=0.1)),\n",
    "            'bd1': tf.Variable(tf.random_normal([n_classes], stddev=0.1))\n",
    "        }\n",
    "        \n",
    "        self.Build()\n",
    "        # Saver\n",
    "        self.save_step = 1;\n",
    "        self.savedir = \"nets/\"\n",
    "        self.saver = tf.train.Saver(max_to_keep=3) \n",
    "        \n",
    "        self.sess.run(tf.global_variables_initializer())\n",
    "    \n",
    "    \n",
    "    # Set the convolution process\n",
    "    def conv_simple(self, _input, _w, _b):\n",
    "        # Reshape input\n",
    "        _input_r = tf.reshape(_input, shape=[-1, 28, 28, 1])\n",
    "        # Convolution\n",
    "        _conv1 = tf.nn.conv2d(_input_r, _w['wc1'], strides=[1, 1, 1, 1], padding='SAME')\n",
    "        # Add-bias\n",
    "        _conv2 = tf.nn.bias_add(_conv1, _b['bc1'])\n",
    "        # Pass ReLu\n",
    "        _conv3 = tf.nn.relu(_conv2)\n",
    "        # Max-pooling\n",
    "        _pool  = tf.nn.max_pool(_conv3, ksize=[1, 2, 2, 1], strides=[1, 2, 2, 1], padding='SAME')\n",
    "        # Vectorize\n",
    "        _dense = tf.reshape(_pool, [-1, _w['wd1'].get_shape().as_list()[0]])\n",
    "        # Fully-connected layer\n",
    "        _out = tf.add(tf.matmul(_dense, _w['wd1']), _b['bd1'])\n",
    "        # Return everything\n",
    "        out = {\n",
    "            'input_r': _input_r, 'conv1': _conv1, 'conv2': _conv2, 'conv3': _conv3\n",
    "            , 'pool': _pool, 'dense': _dense, 'out': _out\n",
    "        }\n",
    "        return out\n",
    "    \n",
    "    # Build model and loss function\n",
    "    def Build(self):\n",
    "        # Set Inputs and Outputs\n",
    "        self.X = tf.placeholder(tf.float32, shape=[None, n_input], name='X')\n",
    "        self.Y = tf.placeholder(tf.float32, shape=[None, n_classes], name='Y')\n",
    "\n",
    "        # Set Layers\n",
    "        self._pred = self.conv_simple(self.X, self.weights, self.biases)['out']\n",
    "        \n",
    "        # Loss and Optimizers\n",
    "        self.cost = tf.nn.softmax_cross_entropy_with_logits_v2(logits=self._pred, labels=self.Y)\n",
    "        self.cost = tf.reduce_mean(self.cost)\n",
    "        \n",
    "        self.optm = tf.train.AdamOptimizer(learning_rate=self.learning_rate).minimize(self.cost)\n",
    "        \n",
    "        self.corr = tf.equal(tf.argmax(self._pred, 1), tf.argmax(self.Y, 1))\n",
    "        self.accr = tf.reduce_mean(tf.cast(self.corr, tf.float32))\n",
    "\n",
    "        print('Model definition completed') # Check the grammar error above\n",
    "    \n",
    "    # Execute the forward process with batch dataset\n",
    "    def run_single_step(self, batch_xs, batch_ys):\n",
    "        _, avg_cost = sess.run(\n",
    "                        [self.optm, self.cost],\n",
    "                        feed_dict={self.X:batch_xs, self.Y:batch_ys})\n",
    "        return avg_cost\n",
    "    \n",
    "    def run_inside(self, tag, batch_xs):\n",
    "        N_TRN = len(batch_xs)\n",
    "        batch_xs = self.sess.run(tf.reshape(batch_xs, shape=(N_TRN,-1)))\n",
    "        print(batch_xs.shape)\n",
    "        result = self.sess.run(self.conv_simple(self.X, self.weights, self.biases), feed_dict={self.X:batch_xs})\n",
    "        return result[tag]\n",
    "    \n",
    "    def get_prediction(self, x_test, y_test):\n",
    "        print(\"Test Label: \", self.sess.run(tf.argmax(y_test, 1)))\n",
    "        print(\"Prediction Label: \", self.sess.run(tf.argmax(self.logits, 1), feed_dict={self.X: x_test}))\n",
    "        return \n",
    "    \n",
    "    def get_accuracy(self, x_test, y_test):\n",
    "        print(x_test.shape)\n",
    "        return self.sess.run(self.accr, feed_dict={self.X: x_test, self.Y: y_test})"
   ]
  },
  {
   "cell_type": "markdown",
   "metadata": {},
   "source": [
    "### Trainer"
   ]
  },
  {
   "cell_type": "code",
   "execution_count": 60,
   "metadata": {},
   "outputs": [],
   "source": [
    "def trainer(train_images, train_labels, test_images, test_lables, \n",
    "            sess, name, learning_rate=1e-3, batch_size=100, training_epochs=100):\n",
    "    \n",
    "    N_TRN = len(train_labels)\n",
    "    N_TST = len(test_labels)\n",
    "    \n",
    "    train_images_flat = sess.run(tf.reshape(train_images, shape=(N_TRN,-1)))\n",
    "    test_images_flat  = sess.run(tf.reshape(test_images, shape=(N_TST,-1)))\n",
    "    train_labels_1h   = sess.run(tf.one_hot(train_labels, depth=n_classes))\n",
    "    test_labels_1h    = sess.run(tf.one_hot(test_labels, depth=n_classes))\n",
    "\n",
    "    model = Model(sess, name, learning_rate=learning_rate, batch_size=batch_size)\n",
    "    \n",
    "    # Minibatch learning    \n",
    "    for epoch in range(training_epochs): \n",
    "        avg_cost = 0.0\n",
    "        num_batch = int(N_TRN / batch_size)\n",
    "\n",
    "        # Get random minibatch for each epoch\n",
    "        randindices = np.random.permutation(len(train_labels_1h))\n",
    "\n",
    "        for i in range(num_batch):\n",
    "            # Obtain a batch\n",
    "            cur_indices = randindices[i*batch_size:(i+1)*batch_size]\n",
    "            batch_xs    = train_images_flat[cur_indices, :]\n",
    "            batch_ys    = train_labels_1h[cur_indices, :]\n",
    "\n",
    "            avg_cost_tmp = model.run_single_step(batch_xs, batch_ys)\n",
    "            avg_cost += avg_cost_tmp / num_batch\n",
    "\n",
    "        # Display training steps\n",
    "        if epoch % display_step == 0:\n",
    "            train_acc = model.get_accuracy(batch_xs, batch_ys)\n",
    "            test_acc  = model.get_accuracy(test_images_flat, test_labels_1h)\n",
    "\n",
    "            print('Epoch: %03d/%03d cost: %0.9f train_acc: %.3f test_acc %.3f'\n",
    "                  % (epoch, training_epochs, avg_cost, train_acc, test_acc))\n",
    "        \n",
    "        # Save net\n",
    "        if epoch % model.save_step == 0:\n",
    "            model.saver.save(sess, 'nets/cnn_mnist_simple.ckpt-' + str(epoch))\n",
    "    print('Done')\n",
    "    return model"
   ]
  },
  {
   "cell_type": "markdown",
   "metadata": {},
   "source": [
    "### Main function"
   ]
  },
  {
   "cell_type": "code",
   "execution_count": 64,
   "metadata": {},
   "outputs": [
    {
     "name": "stdout",
     "output_type": "stream",
     "text": [
      "Model definition completed\n",
      "(100, 784)\n",
      "(10000, 784)\n",
      "Epoch: 000/005 cost: 45.589274122 train_acc: 0.810 test_acc 0.855\n",
      "Done\n",
      "CPU times: user 7.84 s, sys: 1.9 s, total: 9.74 s\n",
      "Wall time: 8.62 s\n"
     ]
    }
   ],
   "source": [
    "%%time\n",
    "NAME = 'MNIST'\n",
    "\n",
    "# Session\n",
    "tf.reset_default_graph()\n",
    "sess = tf.Session(config=tf.ConfigProto(log_device_placement=True))\n",
    "\n",
    "# Train the model\n",
    "model = trainer(train_images, train_labels, \n",
    "                test_images, test_labels, \n",
    "                sess, NAME,\n",
    "                learning_rate=1e-4,  batch_size=100, training_epochs=5)\n"
   ]
  },
  {
   "cell_type": "markdown",
   "metadata": {},
   "source": [
    "### Restore"
   ]
  },
  {
   "cell_type": "code",
   "execution_count": 66,
   "metadata": {},
   "outputs": [
    {
     "name": "stdout",
     "output_type": "stream",
     "text": [
      "INFO:tensorflow:Restoring parameters from nets/cnn_mnist_simple.ckpt-19\n",
      "NETWORK RESTORED\n"
     ]
    }
   ],
   "source": [
    "epoch = 20-1\n",
    "model.saver.restore(sess, \"nets/cnn_mnist_simple.ckpt-\" + str(epoch))\n",
    "print (\"NETWORK RESTORED\")"
   ]
  },
  {
   "cell_type": "markdown",
   "metadata": {},
   "source": [
    "### Let's see how CNN works!"
   ]
  },
  {
   "cell_type": "code",
   "execution_count": 86,
   "metadata": {},
   "outputs": [
    {
     "name": "stdout",
     "output_type": "stream",
     "text": [
      "(1, 28, 28)\n",
      "(1, 784)\n",
      "(1, 784)\n",
      "(1, 784)\n",
      "(1, 784)\n",
      "(1, 784)\n",
      "(1, 784)\n",
      "(1, 784)\n"
     ]
    }
   ],
   "source": [
    "print(train_images[0:1,:].shape)\n",
    "input_r = model.run_inside('input_r', train_images[0:1,:])\n",
    "conv1   = model.run_inside('conv1', train_images[0:1,:])\n",
    "conv2   = model.run_inside('conv2', train_images[0:1,:])\n",
    "conv3   = model.run_inside('conv3', train_images[0:1,:])\n",
    "pool    = model.run_inside('pool', train_images[0:1,:])\n",
    "dense   = model.run_inside('dense', train_images[0:1,:])\n",
    "out     = model.run_inside('out', train_images[0:1,:])\n"
   ]
  },
  {
   "cell_type": "markdown",
   "metadata": {},
   "source": [
    "### Input"
   ]
  },
  {
   "cell_type": "code",
   "execution_count": 83,
   "metadata": {},
   "outputs": [
    {
     "name": "stdout",
     "output_type": "stream",
     "text": [
      "Size of 'input_r' is (1, 28, 28, 1)\n",
      "Label is 5\n"
     ]
    },
    {
     "data": {
      "image/png": "[encoded data removed]",
      "text/plain": [
       "<Figure size 288x288 with 2 Axes>"
      ]
     },
     "metadata": {},
     "output_type": "display_data"
    }
   ],
   "source": [
    "\n",
    "# Let's see 'input_r'\n",
    "print (\"Size of 'input_r' is %s\" % (input_r.shape,))\n",
    "label = train_labels[0]\n",
    "print (\"Label is %d\" % (label))\n",
    "\n",
    "# Plot ! \n",
    "plt.matshow(input_r[0, :, :, 0], cmap=plt.get_cmap('gray'))\n",
    "plt.title(\"Label of this image is \" + str(label) + \"\")\n",
    "plt.colorbar()\n",
    "plt.show()"
   ]
  },
  {
   "cell_type": "markdown",
   "metadata": {},
   "source": [
    "### Conv1"
   ]
  },
  {
   "cell_type": "code",
   "execution_count": 87,
   "metadata": {},
   "outputs": [
    {
     "name": "stdout",
     "output_type": "stream",
     "text": [
      "Size of 'conv1' is (1, 28, 28, 64)\n"
     ]
    },
    {
     "data": {
      "image/png": "[encoded data removed]",
      "text/plain": [
       "<Figure size 288x288 with 2 Axes>"
      ]
     },
     "metadata": {},
     "output_type": "display_data"
    },
    {
     "data": {
      "image/png": "[encoded data removed]",
      "text/plain": [
       "<Figure size 288x288 with 2 Axes>"
      ]
     },
     "metadata": {},
     "output_type": "display_data"
    },
    {
     "data": {
      "image/png": "[encoded data removed]",
      "text/plain": [
       "<Figure size 288x288 with 2 Axes>"
      ]
     },
     "metadata": {},
     "output_type": "display_data"
    }
   ],
   "source": [
    "# Let's see 'conv1'\n",
    "print (\"Size of 'conv1' is %s\" % (conv1.shape,))\n",
    "\n",
    "# Plot ! \n",
    "for i in range(3):\n",
    "    plt.matshow(conv1[0, :, :, i], cmap=plt.get_cmap('gray'))\n",
    "    plt.title(str(i) + \"th conv1\")\n",
    "    plt.colorbar()\n",
    "    plt.show()"
   ]
  },
  {
   "cell_type": "markdown",
   "metadata": {},
   "source": [
    "### Conv3"
   ]
  },
  {
   "cell_type": "code",
   "execution_count": 88,
   "metadata": {},
   "outputs": [
    {
     "name": "stdout",
     "output_type": "stream",
     "text": [
      "Size of 'conv3' is (1, 28, 28, 64)\n"
     ]
    },
    {
     "data": {
      "image/png": "[encoded data removed]",
      "text/plain": [
       "<Figure size 288x288 with 2 Axes>"
      ]
     },
     "metadata": {},
     "output_type": "display_data"
    },
    {
     "data": {
      "image/png": "[encoded data removed]",
      "text/plain": [
       "<Figure size 288x288 with 2 Axes>"
      ]
     },
     "metadata": {},
     "output_type": "display_data"
    },
    {
     "data": {
      "image/png": "[encoded data removed]",
      "text/plain": [
       "<Figure size 288x288 with 2 Axes>"
      ]
     },
     "metadata": {},
     "output_type": "display_data"
    }
   ],
   "source": [
    "# Let's see 'conv3'\n",
    "print (\"Size of 'conv3' is %s\" % (conv3.shape,))\n",
    "\n",
    "# Plot ! \n",
    "for i in range(3):\n",
    "    plt.matshow(conv3[0, :, :, i], cmap=plt.get_cmap('gray'))\n",
    "    plt.title(str(i) + \"th conv3\")\n",
    "    plt.colorbar()\n",
    "    plt.show()"
   ]
  },
  {
   "cell_type": "markdown",
   "metadata": {},
   "source": [
    "### Convolution Filters"
   ]
  },
  {
   "cell_type": "code",
   "execution_count": 93,
   "metadata": {},
   "outputs": [
    {
     "name": "stdout",
     "output_type": "stream",
     "text": [
      "Size of 'wc1' is (3, 3, 1, 64)\n"
     ]
    },
    {
     "data": {
      "image/png": "[encoded data removed]",
      "text/plain": [
       "<Figure size 288x288 with 2 Axes>"
      ]
     },
     "metadata": {},
     "output_type": "display_data"
    },
    {
     "data": {
      "image/png": "[encoded data removed]",
      "text/plain": [
       "<Figure size 288x288 with 2 Axes>"
      ]
     },
     "metadata": {},
     "output_type": "display_data"
    },
    {
     "data": {
      "image/png": "[encoded data removed]",
      "text/plain": [
       "<Figure size 288x288 with 2 Axes>"
      ]
     },
     "metadata": {},
     "output_type": "display_data"
    }
   ],
   "source": [
    "# Let's see weight! \n",
    "wc1 = sess.run(model.weights['wc1'])\n",
    "print (\"Size of 'wc1' is %s\" % (wc1.shape,))\n",
    "\n",
    "# Plot ! \n",
    "for i in range(3):\n",
    "    plt.matshow(wc1[:, :, 0, i], cmap=plt.get_cmap('gray'))\n",
    "    plt.title(str(i) + \"th conv filter\")\n",
    "    plt.colorbar()\n",
    "    plt.show()"
   ]
  }
 ],
 "metadata": {
  "kernelspec": {
   "display_name": "Environment (conda_tensorflow_p36)",
   "language": "python",
   "name": "conda_tensorflow_p36"
  },
  "language_info": {
   "codemirror_mode": {
    "name": "ipython",
    "version": 3
   },
   "file_extension": ".py",
   "mimetype": "text/x-python",
   "name": "python",
   "nbconvert_exporter": "python",
   "pygments_lexer": "ipython3",
   "version": "3.6.5"
  }
 },
 "nbformat": 4,
 "nbformat_minor": 2
}
