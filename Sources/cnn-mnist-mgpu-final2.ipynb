{
 "cells": [
  {
   "cell_type": "markdown",
   "metadata": {},
   "source": [
    "### CNN MNIST for multi-gpu version"
   ]
  },
  {
   "cell_type": "code",
   "execution_count": 1,
   "metadata": {},
   "outputs": [
    {
     "name": "stdout",
     "output_type": "stream",
     "text": [
      "CURRENT TF VERSION IS [1.12.0]\n",
      "PACKAGES LOADED\n"
     ]
    }
   ],
   "source": [
    "import os\n",
    "import numpy as np\n",
    "from scipy import ndimage\n",
    "import matplotlib.pyplot as plt\n",
    "import tensorflow as tf\n",
    "from tensorflow import keras\n",
    "import datetime\n",
    "\n",
    "from tensorflow.examples.tutorials.mnist import input_data\n",
    "%matplotlib inline  \n",
    "print (\"CURRENT TF VERSION IS [%s]\" % (tf.__version__))\n",
    "print (\"PACKAGES LOADED\")"
   ]
  },
  {
   "cell_type": "markdown",
   "metadata": {},
   "source": [
    "### Check the available GPUs in the notebook"
   ]
  },
  {
   "cell_type": "code",
   "execution_count": 2,
   "metadata": {},
   "outputs": [],
   "source": [
    "from tensorflow.python.client import device_lib\n",
    "\n",
    "def check_available_gpus():\n",
    "    local_devices = device_lib.list_local_devices()\n",
    "    gpu_names = [x.name for x in local_devices if x.device_type == 'GPU']\n",
    "    gpu_num = len(gpu_names)\n",
    "\n",
    "    print('{0} GPUs are detected : {1}'.format(gpu_num, gpu_names))\n",
    "\n",
    "    return gpu_num"
   ]
  },
  {
   "cell_type": "markdown",
   "metadata": {},
   "source": [
    "### Load MNIST Dataset"
   ]
  },
  {
   "cell_type": "code",
   "execution_count": 3,
   "metadata": {},
   "outputs": [
    {
     "name": "stdout",
     "output_type": "stream",
     "text": [
      "Training data shape :  (60000, 28, 28)\n",
      "Class dataset :  (60000,)\n",
      "Testing data shape :  (10000, 28, 28)\n",
      "Class dataset :  (10000,)\n"
     ]
    }
   ],
   "source": [
    "mnist = keras.datasets.mnist\n",
    "(trainimg, trainlabel), (testimg, testlabel) = mnist.load_data()\n",
    "\n",
    "# Img size : 28 x 28 x 1\n",
    "# Num classes : 10\n",
    "\n",
    "print('Training data shape : ', trainimg.shape)\n",
    "print('Class dataset : ', trainlabel.shape)\n",
    "print('Testing data shape : ', testimg.shape)\n",
    "print('Class dataset : ', testlabel.shape)"
   ]
  },
  {
   "cell_type": "markdown",
   "metadata": {},
   "source": [
    "### Data preprocessing"
   ]
  },
  {
   "cell_type": "code",
   "execution_count": 4,
   "metadata": {},
   "outputs": [
    {
     "name": "stdout",
     "output_type": "stream",
     "text": [
      "Training data shape :  (60000, 784)\n",
      "Class dataset :  (60000, 10)\n",
      "Testing data shape :  (10000, 28, 28, 1)\n",
      "Class dataset :  (10000, 10)\n"
     ]
    }
   ],
   "source": [
    "N_TRN = len(trainlabel)\n",
    "N_TST = len(testlabel)\n",
    "\n",
    "onehot_mat = np.eye(10)\n",
    "\n",
    "trainimg  = np.reshape(trainimg, [-1, 784])\n",
    "#testimg   = np.reshape(testimg, [-1, 784])\n",
    "testimg   = np.reshape(testimg, [-1, 28, 28, 1])\n",
    "\n",
    "trainlabel = np.concatenate([[onehot_mat[int(x),:]] for x in trainlabel], axis=0)\n",
    "testlabel   = np.concatenate([[onehot_mat[int(x),:]] for x in testlabel], axis=0)\n",
    "\n",
    "print('Training data shape : ', trainimg.shape)\n",
    "print('Class dataset : ', trainlabel.shape)\n",
    "print('Testing data shape : ', testimg.shape)\n",
    "print('Class dataset : ', testlabel.shape)"
   ]
  },
  {
   "cell_type": "markdown",
   "metadata": {},
   "source": [
    "### Define CNN model"
   ]
  },
  {
   "cell_type": "code",
   "execution_count": 5,
   "metadata": {},
   "outputs": [],
   "source": [
    "\n",
    "def model(X, reuse=False, is_trn=True):\n",
    "    with tf.variable_scope('L1', reuse=reuse):\n",
    "        X  = tf.layers.batch_normalization(inputs=X, reuse=reuse)\n",
    "        L1 = tf.layers.conv2d(inputs=X\n",
    "                              , filters=64\n",
    "                              , kernel_size=[3, 3]\n",
    "                              , reuse=reuse\n",
    "                              , activation=tf.nn.relu\n",
    "                              , padding='SAME')\n",
    "        L1 = tf.layers.max_pooling2d(inputs=L1\n",
    "                                     , pool_size=[2, 2]\n",
    "                                     , strides=[2, 2])\n",
    "        L1 = tf.layers.dropout(inputs=L1\n",
    "                               , rate=0.7\n",
    "                               , training=is_trn)\n",
    "\n",
    "    with tf.variable_scope('L2', reuse=reuse):\n",
    "        L1 = tf.layers.batch_normalization(inputs=L1, reuse=reuse)\n",
    "        L2 = tf.layers.conv2d(inputs=L1\n",
    "                              , filters=128\n",
    "                              , kernel_size=[3, 3]\n",
    "                              , reuse=reuse\n",
    "                              , activation=tf.nn.relu\n",
    "                              , padding='SAME')\n",
    "        L2 = tf.layers.max_pooling2d(inputs=L2\n",
    "                                     , pool_size=[2, 2]\n",
    "                                     , strides=[2, 2])\n",
    "        L2 = tf.layers.dropout(inputs=L2\n",
    "                               , rate=0.7\n",
    "                               , training=is_trn)\n",
    "\n",
    "    with tf.variable_scope('L2-1', reuse=reuse):\n",
    "        L2   = tf.layers.batch_normalization(inputs=L2, reuse=reuse)\n",
    "        L2_1 = tf.layers.conv2d(inputs=L2\n",
    "                                , filters=128\n",
    "                                , kernel_size=[3, 3]\n",
    "                                , reuse=reuse\n",
    "                                , activation=tf.nn.relu\n",
    "                                , padding='SAME')\n",
    "        L2_1 = tf.layers.max_pooling2d(inputs=L2_1\n",
    "                                       , pool_size=[2, 2]\n",
    "                                       , strides=[2, 2])\n",
    "        L2_1 = tf.layers.dropout(inputs=L2_1\n",
    "                                 , rate=0.7\n",
    "                                 , training=is_trn)\n",
    "        \n",
    "    with tf.variable_scope('L3', reuse=reuse):\n",
    "        L2_1 = tf.layers.batch_normalization(inputs=L2, reuse=reuse)\n",
    "        L3   = tf.contrib.layers.flatten(inputs=L2_1)\n",
    "        L3   = tf.layers.dense(L3, 1024, activation=tf.nn.relu)\n",
    "        L3   = tf.layers.dropout(L3, 0.5, is_trn)\n",
    "\n",
    "    with tf.variable_scope('L4', reuse=reuse):\n",
    "        L3 = tf.layers.batch_normalization(inputs=L3, reuse=reuse)\n",
    "        L4 = tf.layers.dense(L3, 256, activation=tf.nn.relu)\n",
    "\n",
    "    with tf.variable_scope('LF', reuse=reuse):\n",
    "        LF = tf.layers.dense(L4, 10, activation=None)\n",
    "\n",
    "    return LF"
   ]
  },
  {
   "cell_type": "markdown",
   "metadata": {},
   "source": [
    "### Image Augmentation"
   ]
  },
  {
   "cell_type": "code",
   "execution_count": 6,
   "metadata": {},
   "outputs": [],
   "source": [
    "def augment_img(xs):\n",
    "    out  = np.copy(xs)\n",
    "    xs_r = np.reshape(xs, [-1, 28, 28])\n",
    "    for i in range(xs_r.shape[0]):\n",
    "        xs_img = xs_r[i, :, :]\n",
    "        bg_value = 0\n",
    "        # ROTATE\n",
    "        angle = np.random.randint(-15, 15, 1).astype(float)\n",
    "        xs_img = ndimage.rotate(xs_img, angle, reshape=False, cval=bg_value)\n",
    "        # ZOOM\n",
    "        rg = 0.1\n",
    "        zoom_factor = np.random.uniform(1., 1.+rg)\n",
    "        h, w = xs_img.shape[:2]\n",
    "        zh   = int(np.round(zoom_factor * h))\n",
    "        zw   = int(np.round(zoom_factor * w))\n",
    "        top  = (zh - h) // 2\n",
    "        left = (zw - w) // 2\n",
    "        zoom_tuple = (zoom_factor,) * 2 + (1,) * (xs_img.ndim - 2)\n",
    "        temp = ndimage.zoom(xs_img[top:top+zh, left:left+zw], zoom_tuple)\n",
    "        trim_top  = ((temp.shape[0] - h) // 2)\n",
    "        trim_left = ((temp.shape[1] - w) // 2)\n",
    "        xs_img = temp[trim_top:trim_top+h, trim_left:trim_left+w]\n",
    "        # SHIFT\n",
    "        shift = np.random.randint(-3, 3, 2)\n",
    "        xs_img = ndimage.shift(xs_img, shift, cval=bg_value)\n",
    "        # RESHAPE\n",
    "        xs_v = np.reshape(xs_img, [1, -1])\n",
    "        out[i, :] = xs_v\n",
    "    return out"
   ]
  },
  {
   "cell_type": "markdown",
   "metadata": {},
   "source": [
    "### Build Graph"
   ]
  },
  {
   "cell_type": "code",
   "execution_count": 7,
   "metadata": {},
   "outputs": [
    {
     "name": "stdout",
     "output_type": "stream",
     "text": [
      "4 GPUs are detected : ['/device:GPU:0', '/device:GPU:1', '/device:GPU:2', '/device:GPU:3']\n",
      "Graph Ready!\n"
     ]
    }
   ],
   "source": [
    "#tf.reset_default_graph()\n",
    "# need to change learning rates and batch size by number of GPU\n",
    "BATCH_SIZE    = 256\n",
    "LEARNING_RATE = 0.001\n",
    "TOTAL_EPOCHS  = 100\n",
    "DISPLAY_STEP  = 4\n",
    "N_CLASSES     = 10\n",
    "NUM_GPUS      = check_available_gpus()\n",
    "\n",
    "# Placeholders\n",
    "X      = tf.placeholder(tf.float32, [None, 28, 28, 1])\n",
    "Y      = tf.placeholder(tf.float32, [None, N_CLASSES])\n",
    "IS_TRN = tf.placeholder(tf.bool)\n",
    "\n",
    "losses = []\n",
    "accres = []\n",
    "# Split placeholders for each GPU operation\n",
    "X_A = tf.split(X, int(NUM_GPUS))\n",
    "Y_A = tf.split(Y, int(NUM_GPUS))\n",
    "\n",
    "for gpu_id in range(int(NUM_GPUS)):\n",
    "    with tf.device(tf.DeviceSpec(device_type=\"GPU\", device_index=gpu_id)):\n",
    "        with tf.variable_scope(tf.get_variable_scope(), reuse=(gpu_id > 0)):\n",
    "            pred = model(X_A[gpu_id], gpu_id > 0)\n",
    "            cost = tf.nn.softmax_cross_entropy_with_logits_v2(\n",
    "                            logits=pred,\n",
    "                            labels=Y_A[gpu_id])\n",
    "            corr = tf.equal(tf.argmax(pred, 1), tf.argmax(Y_A[gpu_id], 1))    \n",
    "            accr = tf.reduce_mean(tf.cast(corr, \"float\"))\n",
    "            \n",
    "            losses.append(cost)\n",
    "            accres.append(accr)\n",
    "            \n",
    "with tf.device('/CPU:0'):\n",
    "    loss = tf.reduce_mean(tf.concat(losses, axis=0))\n",
    "    accr = tf.reduce_mean(accres)\n",
    "\n",
    "    optimizer = tf.train.AdamOptimizer(LEARNING_RATE).minimize(\n",
    "        loss, colocate_gradients_with_ops=True)  # Important!\n",
    "\n",
    "print('Graph Ready!')"
   ]
  },
  {
   "cell_type": "markdown",
   "metadata": {},
   "source": [
    "### Run the model"
   ]
  },
  {
   "cell_type": "code",
   "execution_count": 8,
   "metadata": {},
   "outputs": [
    {
     "name": "stdout",
     "output_type": "stream",
     "text": [
      "Epoch: 004/100 cost: 0.231742859\n",
      " TRAIN ACCURACY: 0.92000\n",
      " VALIDATION ACCURACY: 0.92820\n",
      "Epoch: 008/100 cost: 0.130099233\n",
      " TRAIN ACCURACY: 0.96600\n",
      " VALIDATION ACCURACY: 0.95650\n",
      "Epoch: 012/100 cost: 0.094295014\n",
      " TRAIN ACCURACY: 0.96200\n",
      " VALIDATION ACCURACY: 0.96580\n"
     ]
    },
    {
     "ename": "KeyboardInterrupt",
     "evalue": "",
     "output_type": "error",
     "traceback": [
      "\u001b[0;31m---------------------------------------------------------------------------\u001b[0m",
      "\u001b[0;31mKeyboardInterrupt\u001b[0m                         Traceback (most recent call last)",
      "\u001b[0;32m<ipython-input-8-ec1d9e647fb6>\u001b[0m in \u001b[0;36m<module>\u001b[0;34m()\u001b[0m\n\u001b[1;32m     26\u001b[0m \u001b[0;34m\u001b[0m\u001b[0m\n\u001b[1;32m     27\u001b[0m         _, cost_val = sess.run([optimizer, loss],\n\u001b[0;32m---> 28\u001b[0;31m                                feed_dict=feeds)\n\u001b[0m\u001b[1;32m     29\u001b[0m         \u001b[0mtotal_cost\u001b[0m \u001b[0;34m+=\u001b[0m \u001b[0mcost_val\u001b[0m\u001b[0;34m\u001b[0m\u001b[0m\n\u001b[1;32m     30\u001b[0m     \u001b[0mtotal_cost\u001b[0m \u001b[0;34m=\u001b[0m \u001b[0mtotal_cost\u001b[0m \u001b[0;34m/\u001b[0m \u001b[0mtotal_batch\u001b[0m\u001b[0;34m\u001b[0m\u001b[0m\n",
      "\u001b[0;32m~/anaconda3/envs/tensorflow_p36/lib/python3.6/site-packages/tensorflow/python/client/session.py\u001b[0m in \u001b[0;36mrun\u001b[0;34m(self, fetches, feed_dict, options, run_metadata)\u001b[0m\n\u001b[1;32m    927\u001b[0m     \u001b[0;32mtry\u001b[0m\u001b[0;34m:\u001b[0m\u001b[0;34m\u001b[0m\u001b[0m\n\u001b[1;32m    928\u001b[0m       result = self._run(None, fetches, feed_dict, options_ptr,\n\u001b[0;32m--> 929\u001b[0;31m                          run_metadata_ptr)\n\u001b[0m\u001b[1;32m    930\u001b[0m       \u001b[0;32mif\u001b[0m \u001b[0mrun_metadata\u001b[0m\u001b[0;34m:\u001b[0m\u001b[0;34m\u001b[0m\u001b[0m\n\u001b[1;32m    931\u001b[0m         \u001b[0mproto_data\u001b[0m \u001b[0;34m=\u001b[0m \u001b[0mtf_session\u001b[0m\u001b[0;34m.\u001b[0m\u001b[0mTF_GetBuffer\u001b[0m\u001b[0;34m(\u001b[0m\u001b[0mrun_metadata_ptr\u001b[0m\u001b[0;34m)\u001b[0m\u001b[0;34m\u001b[0m\u001b[0m\n",
      "\u001b[0;32m~/anaconda3/envs/tensorflow_p36/lib/python3.6/site-packages/tensorflow/python/client/session.py\u001b[0m in \u001b[0;36m_run\u001b[0;34m(self, handle, fetches, feed_dict, options, run_metadata)\u001b[0m\n\u001b[1;32m   1150\u001b[0m     \u001b[0;32mif\u001b[0m \u001b[0mfinal_fetches\u001b[0m \u001b[0;32mor\u001b[0m \u001b[0mfinal_targets\u001b[0m \u001b[0;32mor\u001b[0m \u001b[0;34m(\u001b[0m\u001b[0mhandle\u001b[0m \u001b[0;32mand\u001b[0m \u001b[0mfeed_dict_tensor\u001b[0m\u001b[0;34m)\u001b[0m\u001b[0;34m:\u001b[0m\u001b[0;34m\u001b[0m\u001b[0m\n\u001b[1;32m   1151\u001b[0m       results = self._do_run(handle, final_targets, final_fetches,\n\u001b[0;32m-> 1152\u001b[0;31m                              feed_dict_tensor, options, run_metadata)\n\u001b[0m\u001b[1;32m   1153\u001b[0m     \u001b[0;32melse\u001b[0m\u001b[0;34m:\u001b[0m\u001b[0;34m\u001b[0m\u001b[0m\n\u001b[1;32m   1154\u001b[0m       \u001b[0mresults\u001b[0m \u001b[0;34m=\u001b[0m \u001b[0;34m[\u001b[0m\u001b[0;34m]\u001b[0m\u001b[0;34m\u001b[0m\u001b[0m\n",
      "\u001b[0;32m~/anaconda3/envs/tensorflow_p36/lib/python3.6/site-packages/tensorflow/python/client/session.py\u001b[0m in \u001b[0;36m_do_run\u001b[0;34m(self, handle, target_list, fetch_list, feed_dict, options, run_metadata)\u001b[0m\n\u001b[1;32m   1326\u001b[0m     \u001b[0;32mif\u001b[0m \u001b[0mhandle\u001b[0m \u001b[0;32mis\u001b[0m \u001b[0;32mNone\u001b[0m\u001b[0;34m:\u001b[0m\u001b[0;34m\u001b[0m\u001b[0m\n\u001b[1;32m   1327\u001b[0m       return self._do_call(_run_fn, feeds, fetches, targets, options,\n\u001b[0;32m-> 1328\u001b[0;31m                            run_metadata)\n\u001b[0m\u001b[1;32m   1329\u001b[0m     \u001b[0;32melse\u001b[0m\u001b[0;34m:\u001b[0m\u001b[0;34m\u001b[0m\u001b[0m\n\u001b[1;32m   1330\u001b[0m       \u001b[0;32mreturn\u001b[0m \u001b[0mself\u001b[0m\u001b[0;34m.\u001b[0m\u001b[0m_do_call\u001b[0m\u001b[0;34m(\u001b[0m\u001b[0m_prun_fn\u001b[0m\u001b[0;34m,\u001b[0m \u001b[0mhandle\u001b[0m\u001b[0;34m,\u001b[0m \u001b[0mfeeds\u001b[0m\u001b[0;34m,\u001b[0m \u001b[0mfetches\u001b[0m\u001b[0;34m)\u001b[0m\u001b[0;34m\u001b[0m\u001b[0m\n",
      "\u001b[0;32m~/anaconda3/envs/tensorflow_p36/lib/python3.6/site-packages/tensorflow/python/client/session.py\u001b[0m in \u001b[0;36m_do_call\u001b[0;34m(self, fn, *args)\u001b[0m\n\u001b[1;32m   1332\u001b[0m   \u001b[0;32mdef\u001b[0m \u001b[0m_do_call\u001b[0m\u001b[0;34m(\u001b[0m\u001b[0mself\u001b[0m\u001b[0;34m,\u001b[0m \u001b[0mfn\u001b[0m\u001b[0;34m,\u001b[0m \u001b[0;34m*\u001b[0m\u001b[0margs\u001b[0m\u001b[0;34m)\u001b[0m\u001b[0;34m:\u001b[0m\u001b[0;34m\u001b[0m\u001b[0m\n\u001b[1;32m   1333\u001b[0m     \u001b[0;32mtry\u001b[0m\u001b[0;34m:\u001b[0m\u001b[0;34m\u001b[0m\u001b[0m\n\u001b[0;32m-> 1334\u001b[0;31m       \u001b[0;32mreturn\u001b[0m \u001b[0mfn\u001b[0m\u001b[0;34m(\u001b[0m\u001b[0;34m*\u001b[0m\u001b[0margs\u001b[0m\u001b[0;34m)\u001b[0m\u001b[0;34m\u001b[0m\u001b[0m\n\u001b[0m\u001b[1;32m   1335\u001b[0m     \u001b[0;32mexcept\u001b[0m \u001b[0merrors\u001b[0m\u001b[0;34m.\u001b[0m\u001b[0mOpError\u001b[0m \u001b[0;32mas\u001b[0m \u001b[0me\u001b[0m\u001b[0;34m:\u001b[0m\u001b[0;34m\u001b[0m\u001b[0m\n\u001b[1;32m   1336\u001b[0m       \u001b[0mmessage\u001b[0m \u001b[0;34m=\u001b[0m \u001b[0mcompat\u001b[0m\u001b[0;34m.\u001b[0m\u001b[0mas_text\u001b[0m\u001b[0;34m(\u001b[0m\u001b[0me\u001b[0m\u001b[0;34m.\u001b[0m\u001b[0mmessage\u001b[0m\u001b[0;34m)\u001b[0m\u001b[0;34m\u001b[0m\u001b[0m\n",
      "\u001b[0;32m~/anaconda3/envs/tensorflow_p36/lib/python3.6/site-packages/tensorflow/python/client/session.py\u001b[0m in \u001b[0;36m_run_fn\u001b[0;34m(feed_dict, fetch_list, target_list, options, run_metadata)\u001b[0m\n\u001b[1;32m   1317\u001b[0m       \u001b[0mself\u001b[0m\u001b[0;34m.\u001b[0m\u001b[0m_extend_graph\u001b[0m\u001b[0;34m(\u001b[0m\u001b[0;34m)\u001b[0m\u001b[0;34m\u001b[0m\u001b[0m\n\u001b[1;32m   1318\u001b[0m       return self._call_tf_sessionrun(\n\u001b[0;32m-> 1319\u001b[0;31m           options, feed_dict, fetch_list, target_list, run_metadata)\n\u001b[0m\u001b[1;32m   1320\u001b[0m \u001b[0;34m\u001b[0m\u001b[0m\n\u001b[1;32m   1321\u001b[0m     \u001b[0;32mdef\u001b[0m \u001b[0m_prun_fn\u001b[0m\u001b[0;34m(\u001b[0m\u001b[0mhandle\u001b[0m\u001b[0;34m,\u001b[0m \u001b[0mfeed_dict\u001b[0m\u001b[0;34m,\u001b[0m \u001b[0mfetch_list\u001b[0m\u001b[0;34m)\u001b[0m\u001b[0;34m:\u001b[0m\u001b[0;34m\u001b[0m\u001b[0m\n",
      "\u001b[0;32m~/anaconda3/envs/tensorflow_p36/lib/python3.6/site-packages/tensorflow/python/client/session.py\u001b[0m in \u001b[0;36m_call_tf_sessionrun\u001b[0;34m(self, options, feed_dict, fetch_list, target_list, run_metadata)\u001b[0m\n\u001b[1;32m   1405\u001b[0m     return tf_session.TF_SessionRun_wrapper(\n\u001b[1;32m   1406\u001b[0m         \u001b[0mself\u001b[0m\u001b[0;34m.\u001b[0m\u001b[0m_session\u001b[0m\u001b[0;34m,\u001b[0m \u001b[0moptions\u001b[0m\u001b[0;34m,\u001b[0m \u001b[0mfeed_dict\u001b[0m\u001b[0;34m,\u001b[0m \u001b[0mfetch_list\u001b[0m\u001b[0;34m,\u001b[0m \u001b[0mtarget_list\u001b[0m\u001b[0;34m,\u001b[0m\u001b[0;34m\u001b[0m\u001b[0m\n\u001b[0;32m-> 1407\u001b[0;31m         run_metadata)\n\u001b[0m\u001b[1;32m   1408\u001b[0m \u001b[0;34m\u001b[0m\u001b[0m\n\u001b[1;32m   1409\u001b[0m   \u001b[0;32mdef\u001b[0m \u001b[0m_call_tf_sessionprun\u001b[0m\u001b[0;34m(\u001b[0m\u001b[0mself\u001b[0m\u001b[0;34m,\u001b[0m \u001b[0mhandle\u001b[0m\u001b[0;34m,\u001b[0m \u001b[0mfeed_dict\u001b[0m\u001b[0;34m,\u001b[0m \u001b[0mfetch_list\u001b[0m\u001b[0;34m)\u001b[0m\u001b[0;34m:\u001b[0m\u001b[0;34m\u001b[0m\u001b[0m\n",
      "\u001b[0;31mKeyboardInterrupt\u001b[0m: "
     ]
    }
   ],
   "source": [
    "init = tf.global_variables_initializer()\n",
    "sess = tf.Session(config=tf.ConfigProto(log_device_placement=False))\n",
    "sess.run(init)\n",
    "\n",
    "start_time = datetime.datetime.now()\n",
    "\n",
    "for epoch in range(TOTAL_EPOCHS):\n",
    "    total_cost = 0.\n",
    "    total_batch = int(N_TRN/BATCH_SIZE)\n",
    "\n",
    "    # Get random minibatch for each epoch\n",
    "    randindices = np.random.permutation(len(trainlabel))\n",
    "\n",
    "    # Iteration\n",
    "    for i in range(total_batch):\n",
    "        # Obtain a batch\n",
    "        cur_indices = randindices[i*BATCH_SIZE:(i+1)*BATCH_SIZE]\n",
    "        batch_xs    = trainimg[cur_indices, :]\n",
    "        batch_ys    = trainlabel[cur_indices, :]        \n",
    "\n",
    "        # Augment Dataset\n",
    "        #batch_xs = augment_img(batch_xs)\n",
    "\n",
    "        batch_xs = batch_xs.reshape(-1, 28, 28, 1)\n",
    "        feeds = {X: batch_xs, Y: batch_ys, IS_TRN: True }\n",
    "\n",
    "        _, cost_val = sess.run([optimizer, loss],\n",
    "                               feed_dict=feeds)\n",
    "        total_cost += cost_val\n",
    "    total_cost = total_cost / total_batch\n",
    "\n",
    "    # Display learning process\n",
    "    if (epoch+1) % DISPLAY_STEP == 0:\n",
    "        print (\"Epoch: %03d/%03d cost: %.9f\" % (epoch+1, TOTAL_EPOCHS, total_cost))\n",
    "        randidx = np.random.permutation(trainimg.shape[0])[:500]\n",
    "\n",
    "        trn_sample = trainimg[randidx].reshape(-1, 28, 28, 1)\n",
    "        feeds = {X: trn_sample, Y: trainlabel[randidx], IS_TRN: False}\n",
    "        train_acc = sess.run(accr, feed_dict=feeds)\n",
    "        print (\" TRAIN ACCURACY: %.5f\" % (train_acc))\n",
    "\n",
    "        feeds = {X: testimg, Y: testlabel, IS_TRN: False}\n",
    "        val_acc = sess.run(accr, feed_dict=feeds)\n",
    "        print (\" VALIDATION ACCURACY: %.5f\" % (val_acc))    \n",
    "\n",
    "print(\"--- Training time : {0} seconds /w {1} GPUs ---\".format(\n",
    "    datetime.datetime.now() - start_time, NUM_GPUS))"
   ]
  }
 ],
 "metadata": {
  "kernelspec": {
   "display_name": "Environment (conda_tensorflow_p36)",
   "language": "python",
   "name": "conda_tensorflow_p36"
  },
  "language_info": {
   "codemirror_mode": {
    "name": "ipython",
    "version": 3
   },
   "file_extension": ".py",
   "mimetype": "text/x-python",
   "name": "python",
   "nbconvert_exporter": "python",
   "pygments_lexer": "ipython3",
   "version": "3.6.5"
  }
 },
 "nbformat": 4,
 "nbformat_minor": 2
}
