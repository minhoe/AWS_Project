{
 "cells": [
  {
   "cell_type": "markdown",
   "metadata": {},
   "source": [
    "### Multi-layer perceptron on mnist"
   ]
  },
  {
   "cell_type": "code",
   "execution_count": 1,
   "metadata": {},
   "outputs": [
    {
     "name": "stdout",
     "output_type": "stream",
     "text": [
      "PACKAGES LOADED\n"
     ]
    }
   ],
   "source": [
    "import numpy as np\n",
    "import tensorflow as tf\n",
    "import matplotlib.pyplot as plt\n",
    "from tensorflow.examples.tutorials.mnist import input_data\n",
    "%matplotlib inline  \n",
    "print (\"PACKAGES LOADED\")"
   ]
  },
  {
   "cell_type": "markdown",
   "metadata": {},
   "source": [
    "### Download and extract mnist dataset"
   ]
  },
  {
   "cell_type": "code",
   "execution_count": 3,
   "metadata": {},
   "outputs": [
    {
     "name": "stdout",
     "output_type": "stream",
     "text": [
      "Extracting ../Data/train-images-idx3-ubyte.gz\n",
      "Extracting ../Data/train-labels-idx1-ubyte.gz\n",
      "Extracting ../Data/t10k-images-idx3-ubyte.gz\n",
      "Extracting ../Data/t10k-labels-idx1-ubyte.gz\n",
      "MNIST loaded\n"
     ]
    }
   ],
   "source": [
    "### Download and extract mnist dataset\n",
    "\n",
    "mnist = input_data.read_data_sets('../Data/', one_hot=True)\n",
    "trainimg = mnist.train.images\n",
    "trainlabel = mnist.train.labels\n",
    "testimg = mnist.test.images\n",
    "testlabel = mnist.test.labels\n",
    "print('MNIST loaded')"
   ]
  },
  {
   "cell_type": "markdown",
   "metadata": {},
   "source": [
    "### Model definition"
   ]
  },
  {
   "cell_type": "code",
   "execution_count": 4,
   "metadata": {},
   "outputs": [
    {
     "name": "stdout",
     "output_type": "stream",
     "text": [
      "Model definition completed\n"
     ]
    }
   ],
   "source": [
    "# NETWORK TOPOLOGIES\n",
    "n_hidden_1 = 256\n",
    "n_hidden_2 = 128\n",
    "n_input    = 784\n",
    "n_classes  = 10\n",
    "\n",
    "# INPUTS AND OUTPUTS\n",
    "x = tf.placeholder(tf.float32, shape=[None, n_input])\n",
    "y = tf.placeholder(tf.float32, shape=[None, n_classes])\n",
    "\n",
    "#NETWORK PARAMETERS\n",
    "stddev = 0.1\n",
    "weights = {\n",
    "    'h1' : tf.Variable(tf.random_normal(shape=[n_input,    n_hidden_1], stddev=stddev)),\n",
    "    'h2' : tf.Variable(tf.random_normal(shape=[n_hidden_1, n_hidden_2], stddev=stddev)),\n",
    "    'out': tf.Variable(tf.random_normal(shape=[n_hidden_2, n_classes],  stddev=stddev))\n",
    "}\n",
    "\n",
    "bias = {\n",
    "    'b1' : tf.Variable(tf.random_normal(shape=[n_hidden_1])),\n",
    "    'b2' : tf.Variable(tf.random_normal(shape=[n_hidden_2])),\n",
    "    'out': tf.Variable(tf.random_normal(shape=[n_classes]))\n",
    "}\n",
    "\n",
    "print('Model definition completed') # Check the grammar error above"
   ]
  },
  {
   "cell_type": "markdown",
   "metadata": {},
   "source": [
    "### MLP as a function"
   ]
  },
  {
   "cell_type": "code",
   "execution_count": 5,
   "metadata": {},
   "outputs": [],
   "source": [
    "def MLP(X_, weights_, bias_):\n",
    "    layer_1 = tf.nn.relu(tf.add(tf.matmul(X_, weights_['h1']), bias_['b1']))\n",
    "    layer_2 = tf.nn.relu(tf.add(tf.matmul(layer_1, weights_['h2']), bias_['b2']))\n",
    "    out     = tf.add(tf.matmul(layer_2, weights_['out']), bias_['out'])\n",
    "    return out"
   ]
  },
  {
   "cell_type": "markdown",
   "metadata": {},
   "source": [
    "### Create Tensor graph for ANN"
   ]
  },
  {
   "cell_type": "code",
   "execution_count": 6,
   "metadata": {},
   "outputs": [
    {
     "name": "stdout",
     "output_type": "stream",
     "text": [
      "Tensor graph completed\n"
     ]
    }
   ],
   "source": [
    "# Prediction\n",
    "pred = MLP(x, weights, bias)\n",
    "\n",
    "# Loss and Optimizer\n",
    "# Do calculate C/E with logits.. not with softmax values\n",
    "cost = tf.nn.softmax_cross_entropy_with_logits_v2(logits=pred, labels=y)\n",
    "cost = tf.reduce_mean(cost)\n",
    "\n",
    "optm = tf.train.AdamOptimizer(learning_rate=0.001).minimize(cost)\n",
    "\n",
    "corr = tf.equal(tf.argmax(pred, 1), tf.argmax(y, 1))\n",
    "accr = tf.reduce_mean(tf.cast(corr, tf.float32))\n",
    "\n",
    "# Initializer\n",
    "init = tf.global_variables_initializer()\n",
    "\n",
    "print('Tensor graph completed')"
   ]
  },
  {
   "cell_type": "markdown",
   "metadata": {},
   "source": [
    "### Train the model"
   ]
  },
  {
   "cell_type": "code",
   "execution_count": 9,
   "metadata": {},
   "outputs": [],
   "source": [
    "training_epochs = 50\n",
    "batch_size      = 100\n",
    "display_step    = 5\n",
    "\n",
    "# Session\n",
    "sess = tf.Session(config=tf.ConfigProto(log_device_placement=True))\n",
    "sess.run(init)"
   ]
  },
  {
   "cell_type": "code",
   "execution_count": 10,
   "metadata": {},
   "outputs": [
    {
     "name": "stdout",
     "output_type": "stream",
     "text": [
      "Epoch: 000/050 cost: 0.284061253 train_acc: 0.960 test_acc 0.960\n",
      "Epoch: 005/050 cost: 0.018922309 train_acc: 0.990 test_acc 0.974\n",
      "Epoch: 010/050 cost: 0.005605694 train_acc: 1.000 test_acc 0.980\n",
      "Epoch: 015/050 cost: 0.001768287 train_acc: 1.000 test_acc 0.975\n",
      "Epoch: 020/050 cost: 0.002039959 train_acc: 1.000 test_acc 0.977\n",
      "Epoch: 025/050 cost: 0.001783123 train_acc: 1.000 test_acc 0.980\n",
      "Epoch: 030/050 cost: 0.001218296 train_acc: 1.000 test_acc 0.980\n",
      "Epoch: 035/050 cost: 0.000575635 train_acc: 1.000 test_acc 0.980\n",
      "Epoch: 040/050 cost: 0.000620703 train_acc: 1.000 test_acc 0.980\n",
      "Epoch: 045/050 cost: 0.000447184 train_acc: 1.000 test_acc 0.980\n",
      "Done\n"
     ]
    }
   ],
   "source": [
    "# Minibatch learning\n",
    "for epoch in range(training_epochs): # Epochs\n",
    "    avg_cost = 0.0\n",
    "    num_batch = int(mnist.train.num_examples / batch_size)\n",
    "    for i in range(num_batch): # Iteration\n",
    "        batch_xs, batch_ys = mnist.train.next_batch(batch_size)\n",
    "        \n",
    "        feeds = {x:batch_xs, y:batch_ys}\n",
    "        sess.run(optm, feed_dict=feeds)\n",
    "        avg_cost += sess.run(cost, feed_dict=feeds) / num_batch\n",
    "    \n",
    "    # Display training steps\n",
    "    if epoch % display_step == 0:\n",
    "        feeds_train = {x: batch_xs, y: batch_ys}\n",
    "        feeds_test  = {x: mnist.test.images, y:mnist.test.labels}\n",
    "        \n",
    "        train_acc = sess.run(accr, feed_dict=feeds_train)\n",
    "        test_acc  = sess.run(accr, feed_dict=feeds_test)\n",
    "        \n",
    "        print('Epoch: %03d/%03d cost: %0.9f train_acc: %.3f test_acc %.3f'\n",
    "             % (epoch, training_epochs, avg_cost, train_acc, test_acc))\n",
    "print('Done')"
   ]
  },
  {
   "cell_type": "code",
   "execution_count": null,
   "metadata": {},
   "outputs": [],
   "source": []
  }
 ],
 "metadata": {
  "kernelspec": {
   "display_name": "Environment (conda_tensorflow_p36)",
   "language": "python",
   "name": "conda_tensorflow_p36"
  },
  "language_info": {
   "codemirror_mode": {
    "name": "ipython",
    "version": 3
   },
   "file_extension": ".py",
   "mimetype": "text/x-python",
   "name": "python",
   "nbconvert_exporter": "python",
   "pygments_lexer": "ipython3",
   "version": "3.6.5"
  }
 },
 "nbformat": 4,
 "nbformat_minor": 2
}
