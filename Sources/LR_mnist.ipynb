{
 "cells": [
  {
   "cell_type": "code",
   "execution_count": 2,
   "metadata": {},
   "outputs": [
    {
     "name": "stdout",
     "output_type": "stream",
     "text": [
      "PACKAGES LOADED\n",
      "TF Version :  1.12.0\n"
     ]
    }
   ],
   "source": [
    "import numpy as np\n",
    "import tensorflow as tf\n",
    "import matplotlib.pyplot as plt\n",
    "from tensorflow.examples.tutorials.mnist import input_data\n",
    "print (\"PACKAGES LOADED\")\n",
    "print('TF Version : ', tf.__version__)"
   ]
  },
  {
   "cell_type": "markdown",
   "metadata": {},
   "source": [
    "### Download and extract mnist dataset"
   ]
  },
  {
   "cell_type": "code",
   "execution_count": 6,
   "metadata": {},
   "outputs": [
    {
     "name": "stdout",
     "output_type": "stream",
     "text": [
      "Extracting ../Data/train-images-idx3-ubyte.gz\n",
      "Extracting ../Data/train-labels-idx1-ubyte.gz\n",
      "Extracting ../Data/t10k-images-idx3-ubyte.gz\n",
      "Extracting ../Data/t10k-labels-idx1-ubyte.gz\n",
      "MNIST loaded\n"
     ]
    }
   ],
   "source": [
    "mnist = input_data.read_data_sets('../Data/', one_hot=True)\n",
    "trainimg = mnist.train.images\n",
    "trainlabel = mnist.train.labels\n",
    "testimg = mnist.test.images\n",
    "testlabel = mnist.test.labels\n",
    "print('MNIST loaded')"
   ]
  },
  {
   "cell_type": "markdown",
   "metadata": {},
   "source": [
    "### Create Tensor graph for LR"
   ]
  },
  {
   "cell_type": "code",
   "execution_count": 16,
   "metadata": {},
   "outputs": [],
   "source": [
    "x = tf.placeholder(tf.float32, shape=[None, 784])\n",
    "y = tf.placeholder(tf.float32, shape=[None, 10])\n",
    "\n",
    "W = tf.Variable(tf.random_normal(shape=[784, 10]))\n",
    "b = tf.Variable(tf.random_normal(shape=[10]))\n",
    "\n",
    "# LR model\n",
    "actv = tf.nn.softmax(tf.matmul(x, W) + b)\n",
    "# Cost function\n",
    "cost = tf.reduce_mean(-tf.reduce_sum(y*tf.log(actv), axis=1)) # Cross entropy\n",
    "# Optimizer\n",
    "learning_rate = 0.01\n",
    "#optm = tf.train.GradientDescentOptimizer(learning_rate).minimize(cost)\n",
    "optm = tf.train.AdamOptimizer().minimize(cost)"
   ]
  },
  {
   "cell_type": "markdown",
   "metadata": {},
   "source": [
    "### Prediction and accuracy"
   ]
  },
  {
   "cell_type": "code",
   "execution_count": 17,
   "metadata": {},
   "outputs": [],
   "source": [
    "# Prediction\n",
    "pred = tf.equal(tf.argmax(actv, 1), tf.argmax(y, 1))\n",
    "# Accuracy\n",
    "accr = tf.reduce_mean(tf.cast(pred, tf.float32))\n",
    "# Init\n",
    "init = tf.global_variables_initializer()"
   ]
  },
  {
   "cell_type": "markdown",
   "metadata": {},
   "source": [
    "### Train the model"
   ]
  },
  {
   "cell_type": "code",
   "execution_count": 18,
   "metadata": {},
   "outputs": [
    {
     "name": "stdout",
     "output_type": "stream",
     "text": [
      "Epoch: 000/050 cost: 5.933189839 train_acc: 0.420 test_acc 0.572\n",
      "Epoch: 005/050 cost: 0.710894975 train_acc: 0.810 test_acc 0.854\n",
      "Epoch: 010/050 cost: 0.484791735 train_acc: 0.880 test_acc 0.886\n",
      "Epoch: 015/050 cost: 0.400329570 train_acc: 0.910 test_acc 0.899\n",
      "Epoch: 020/050 cost: 0.355397993 train_acc: 0.960 test_acc 0.905\n",
      "Epoch: 025/050 cost: 0.327056626 train_acc: 0.910 test_acc 0.909\n",
      "Epoch: 030/050 cost: 0.307733241 train_acc: 0.930 test_acc 0.912\n",
      "Epoch: 035/050 cost: 0.293197363 train_acc: 0.940 test_acc 0.913\n",
      "Epoch: 040/050 cost: 0.282243594 train_acc: 0.910 test_acc 0.917\n",
      "Epoch: 045/050 cost: nan train_acc: 0.120 test_acc 0.098\n"
     ]
    }
   ],
   "source": [
    "training_epochs = 50\n",
    "batch_size      = 100\n",
    "display_step    = 5\n",
    "\n",
    "# Session\n",
    "sess = tf.Session()\n",
    "sess.run(init)\n",
    "\n",
    "# Minibatch learning\n",
    "\n",
    "for epoch in range(training_epochs): # Epochs\n",
    "    avg_cost = 0.0\n",
    "    num_batch = int(mnist.train.num_examples / batch_size)\n",
    "    for i in range(num_batch): # Iteration\n",
    "        batch_xs, batch_ys = mnist.train.next_batch(batch_size)\n",
    "        \n",
    "        feeds = {x:batch_xs, y:batch_ys}\n",
    "        sess.run(optm, feed_dict=feeds)\n",
    "        avg_cost += sess.run(cost, feed_dict=feeds) / num_batch\n",
    "    \n",
    "    # Display training steps\n",
    "    if epoch % display_step == 0:\n",
    "        feeds_train = {x: batch_xs, y: batch_ys}\n",
    "        feeds_test  = {x: mnist.test.images, y:mnist.test.labels}\n",
    "        \n",
    "        train_acc = sess.run(accr, feed_dict=feeds_train)\n",
    "        test_acc  = sess.run(accr, feed_dict=feeds_test)\n",
    "        \n",
    "        print('Epoch: %03d/%03d cost: %0.9f train_acc: %.3f test_acc %.3f'\n",
    "             % (epoch, training_epochs, avg_cost, train_acc, test_acc))\n",
    "print('Done')"
   ]
  },
  {
   "cell_type": "code",
   "execution_count": null,
   "metadata": {},
   "outputs": [],
   "source": []
  }
 ],
 "metadata": {
  "kernelspec": {
   "display_name": "Environment (conda_tensorflow_p36)",
   "language": "python",
   "name": "conda_tensorflow_p36"
  },
  "language_info": {
   "codemirror_mode": {
    "name": "ipython",
    "version": 3
   },
   "file_extension": ".py",
   "mimetype": "text/x-python",
   "name": "python",
   "nbconvert_exporter": "python",
   "pygments_lexer": "ipython3",
   "version": "3.6.5"
  }
 },
 "nbformat": 4,
 "nbformat_minor": 2
}
